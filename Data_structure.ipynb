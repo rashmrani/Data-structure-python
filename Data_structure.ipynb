{
  "nbformat": 4,
  "nbformat_minor": 0,
  "metadata": {
    "colab": {
      "provenance": []
    },
    "kernelspec": {
      "name": "python3",
      "display_name": "Python 3"
    },
    "language_info": {
      "name": "python"
    }
  },
  "cells": [
    {
      "cell_type": "code",
      "execution_count": null,
      "metadata": {
        "id": "rw8F6niZrb9Y"
      },
      "outputs": [],
      "source": []
    },
    {
      "cell_type": "markdown",
      "source": [
        "# 1.Discuss string and slicing and provide examples."
      ],
      "metadata": {
        "id": "DqamXZQWsD2w"
      }
    },
    {
      "cell_type": "code",
      "source": [],
      "metadata": {
        "id": "Tf3TLNWKsWQo"
      },
      "execution_count": null,
      "outputs": []
    },
    {
      "cell_type": "markdown",
      "source": [
        "String are starts is the index where slicing begins(inclusive) and end is the index where it ends (exclusive).A string is a sequence of characters and can contain letter,number,symbols and even space.\n",
        "\n",
        "For Ex-with string my_string=\"Hello,World\",if you use my_string,it will return \"World\".if you omit start,it starts from the beginning of the string."
      ],
      "metadata": {
        "id": "VeA7dOCjsgI9"
      }
    },
    {
      "cell_type": "code",
      "source": [],
      "metadata": {
        "id": "TV3jFp_Wtpfs"
      },
      "execution_count": null,
      "outputs": []
    },
    {
      "cell_type": "markdown",
      "source": [
        "# 2.Explain the key features of lists in python."
      ],
      "metadata": {
        "id": "G6plOEfBuqjF"
      }
    },
    {
      "cell_type": "code",
      "source": [],
      "metadata": {
        "id": "8WkUV7znu2-W"
      },
      "execution_count": null,
      "outputs": []
    },
    {
      "cell_type": "markdown",
      "source": [
        "Lists are mutable and dynamic:list items can be added,removed or changed after the list is defined.lists are ordered:newly added items will be placed at the end of the list.lists use zero-based indexing;every list item has an associated index,and the first items index is 0.\n",
        "\n",
        "Standard library\n",
        "\n",
        "high-level language\n",
        "\n",
        "Easy to learn\n",
        "\n",
        "Dynamic language\n",
        "\n",
        "Interpreted language\n"
      ],
      "metadata": {
        "id": "TeEAcculu4uw"
      }
    },
    {
      "cell_type": "code",
      "source": [],
      "metadata": {
        "id": "hkZ30bvVwsjy"
      },
      "execution_count": null,
      "outputs": []
    },
    {
      "cell_type": "markdown",
      "source": [
        "# 3.Describe how to access,modify,and delete elements in list a with examples."
      ],
      "metadata": {
        "id": "R71FH1Fkwuwv"
      }
    },
    {
      "cell_type": "code",
      "source": [],
      "metadata": {
        "id": "JfJhmbq8xIUt"
      },
      "execution_count": null,
      "outputs": []
    },
    {
      "cell_type": "markdown",
      "source": [
        "Python list elements are ordered by index,a number referring to their placement in the list.List indices start at 0 and increment by one.To access a list elements by ndex,square bracket notation is used :list [index}.\n",
        "\n",
        "ways to modify a python lists have different methods that help you modify a list.This Section of the tutorial just goes over various python list methods.\n",
        "\n",
        "We can assign an elements to the list using index to update.there are multiple function to delete elements from list.\n",
        "\n",
        "list are mutable and dynamic:list items can be added,removed or changed after the list is defined.lists are ordered:newly added items will be placed at the end of the list.lists use zero-based indexing:every list item has an associated index,and the first items index is 0."
      ],
      "metadata": {
        "id": "_tgNrHIcxjfJ"
      }
    },
    {
      "cell_type": "code",
      "source": [],
      "metadata": {
        "id": "ts7MbojI0KwU"
      },
      "execution_count": null,
      "outputs": []
    },
    {
      "cell_type": "markdown",
      "source": [
        "# 4.Compare and contrast tuples and list with examples."
      ],
      "metadata": {
        "id": "Mu9hnGvU1RQf"
      }
    },
    {
      "cell_type": "code",
      "source": [],
      "metadata": {
        "id": "8-t_bQs61upL"
      },
      "execution_count": null,
      "outputs": []
    },
    {
      "cell_type": "markdown",
      "source": [
        "Lists are mutable,tuples are immutable.\n",
        "\n",
        "the implication of iterations is time-consuming,the implication of iterations is comparatively faster.\n",
        "\n",
        "the list is better for performing operations,such as insertion and deletion,Atuple data type is appropriate for accessing the elements.\n",
        "\n",
        "lists consume more memory,tuple consumes less memory as compared to the list.\n",
        "\n",
        "lists have several built-in methods,tupledoes not have many built-in mehods.\n",
        "\n"
      ],
      "metadata": {
        "id": "3LQ7lFuy1xNu"
      }
    },
    {
      "cell_type": "code",
      "source": [],
      "metadata": {
        "id": "EXrSfCHL3guz"
      },
      "execution_count": null,
      "outputs": []
    },
    {
      "cell_type": "markdown",
      "source": [
        "# 5.Describe the key features of sets and provide examples of their use."
      ],
      "metadata": {
        "id": "uDXTTtOu3mb_"
      }
    },
    {
      "cell_type": "markdown",
      "source": [
        "Sets are a well-defined collection of objects.objects that a set contains are called the elements of the set.we can also consider sets as collections of elements that have a common features.for examples,the collection of even numbers is called the set of even number.\n",
        "\n",
        "the six properties of sets ar commutative property,associative property,distributive property,identity property,complement property,idempotentproperty.\n",
        "\n",
        "eX:-A={1,2,3,4{ is a set."
      ],
      "metadata": {
        "id": "p4G84wlN8m3Y"
      }
    },
    {
      "cell_type": "code",
      "source": [],
      "metadata": {
        "id": "U9XMVudv-G9P"
      },
      "execution_count": null,
      "outputs": []
    },
    {
      "cell_type": "markdown",
      "source": [
        "# 6.Discuss the use cases of tuples and sets in python programming."
      ],
      "metadata": {
        "id": "zSqQi_Jl-I61"
      }
    },
    {
      "cell_type": "code",
      "source": [],
      "metadata": {
        "id": "aLcMXiZM-aeN"
      },
      "execution_count": null,
      "outputs": []
    },
    {
      "cell_type": "markdown",
      "source": [
        "Tuples are immutable collection of variables,so they can not be changed after creation, sets are mutable collection of variables,so sets can be changed after creation.\n",
        "\n",
        "tuples are used to store multiple items in a single variable.tuples are used to store multiple items in a single variable.tuples is one of 4 built-in data types in python used to store collection of data ,the other 3are list,set,and dictionary,all with different qualities and usage.\n",
        "\n",
        "the python sets are highly useful to efficiently remove duplicate values from a collection like a list and to perform common math operation like unions and intersection."
      ],
      "metadata": {
        "id": "_WyXc52r-s1U"
      }
    },
    {
      "cell_type": "markdown",
      "source": [],
      "metadata": {
        "id": "t247pkm_-b8q"
      }
    },
    {
      "cell_type": "markdown",
      "source": [
        "# 7.Describe how to add,modify,and delete items in a dictionary with examples."
      ],
      "metadata": {
        "id": "mKP9vWVGA-AA"
      }
    },
    {
      "cell_type": "code",
      "source": [],
      "metadata": {
        "id": "gzZEj71mBpMD"
      },
      "execution_count": null,
      "outputs": []
    },
    {
      "cell_type": "markdown",
      "source": [
        "Changing and adding elements to a dictionary can be created using the dict()constructor or curly braces{}.once you have created a dictionary,you can add,remove,or update elements using the methods dict. update (),dict.pop(),and dit.\n",
        "\n",
        "A new item can be pushed or an existing item can be modified with the aid of an assignment operator.if an elements is added to a key that already exists,its value will be changed to the newly added value.upon adding a fresh key-value pair,a new item will be added to the existing dictionary.\n",
        "\n",
        "to the delete a key ,value pair in a dictionary ,you can use the del method.A disadvantages is that it gives keyerror if you try to del a nonexistent key.so,instead of the del statement you can use the pop method this method takes in the key as the parameter."
      ],
      "metadata": {
        "id": "59kXad1aBqjV"
      }
    },
    {
      "cell_type": "code",
      "source": [],
      "metadata": {
        "id": "xm35mOHUEhUE"
      },
      "execution_count": null,
      "outputs": []
    },
    {
      "cell_type": "markdown",
      "source": [
        "# 8.Discuss the importance of dictionary keys being immutable and provide example."
      ],
      "metadata": {
        "id": "VjUYz4y-Eixa"
      }
    },
    {
      "cell_type": "code",
      "source": [],
      "metadata": {
        "id": "wuYmVofOG5gj"
      },
      "execution_count": null,
      "outputs": []
    },
    {
      "cell_type": "markdown",
      "source": [
        "Immutability is essential for keys because it ensures that the dictionary can efficiently look up values based on their keys. If a key was mutable,its has value could change ,making it impossible to find the associated value in the dictionary.\n",
        "\n",
        "For ex-dictionary:d={\"name\":\"Alice\",\"age\":30}\n",
        "\"Name and \"age\" are the keys (immutable),and \"alice\"and \"30\" are the values(mutable)."
      ],
      "metadata": {
        "id": "RBtlqDndHIa4"
      }
    },
    {
      "cell_type": "code",
      "source": [],
      "metadata": {
        "id": "uYhIdIe7I4ga"
      },
      "execution_count": null,
      "outputs": []
    }
  ]
}